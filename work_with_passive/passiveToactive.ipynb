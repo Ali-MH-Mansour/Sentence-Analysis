{
  "nbformat": 4,
  "nbformat_minor": 0,
  "metadata": {
    "colab": {
      "provenance": [],
      "authorship_tag": "ABX9TyMhvy7n1d0z/tawQqSTkdCb",
      "include_colab_link": true
    },
    "kernelspec": {
      "name": "python3",
      "display_name": "Python 3"
    },
    "language_info": {
      "name": "python"
    }
  },
  "cells": [
    {
      "cell_type": "markdown",
      "metadata": {
        "id": "view-in-github",
        "colab_type": "text"
      },
      "source": [
        "<a href=\"https://colab.research.google.com/github/Ali-MH-Mansour/Sentence-Analysis/blob/main/work_with_passive/passiveToactive.ipynb\" target=\"_parent\"><img src=\"https://colab.research.google.com/assets/colab-badge.svg\" alt=\"Open In Colab\"/></a>"
      ]
    },
    {
      "cell_type": "markdown",
      "source": [
        "These are some functions that are useful to determine the passive voice in english sentences."
      ],
      "metadata": {
        "id": "W23CqD2ynsya"
      }
    },
    {
      "cell_type": "code",
      "execution_count": 2,
      "metadata": {
        "id": "XqG9FHHNnsDK"
      },
      "outputs": [],
      "source": [
        "import spacy\n",
        "from spacy.matcher import Matcher\n",
        "\n",
        "Active = \"Harry ate six shrimp at dinner.\\\n",
        "Beautiful giraffes roam the savannah.\\\n",
        "Sue changed the flat tire.\\\n",
        "We are going to watch a movie tonight.\\\n",
        "I ran the obstacle course in record time.\\\n",
        "The crew paved the entire stretch of highway.\\\n",
        "Mom read the novel in one day.\\\n",
        "The critic wrote a scathing review.\\\n",
        "I will clean the house every Saturday.\\\n",
        "The staff is required to watch a safety video every year.\\\n",
        "She faxed her application for a new job.\\\n",
        "Tom painted the entire house.\\\n",
        "The teacher always answers the students’ questions.\\\n",
        "The choir really enjoys that piece.\\\n",
        "Who taught you to ski?\\\n",
        "The forest fire destroyed the whole suburb.\\\n",
        "The two kings are signing the treaty.\\\n",
        "The cleaning crew vacuums and dusts the office every night.\\\n",
        "Larry generously donated money to the homeless shelter.\\\n",
        "No one responded to my sales ad.\\\n",
        "The wedding planner is making all the reservations.\\\n",
        "Susan will bake two dozen cupcakes for the bake sale.\\\n",
        "The science class viewed the comet.\\\n",
        "Who ate the last cookie?\\\n",
        "Alex posted the video on Facebook.\\\n",
        "The director will give you instructions.\\\n",
        "Thousands of tourists view the Grand Canyon every year.\\\n",
        "The homeowners remodeled the house to help it sell.\\\n",
        "The team will celebrate their victory tomorrow.\\\n",
        "The saltwater eventually corroded the metal beams.\\\n",
        "The kangaroo carried her baby in her pouch.\\\n",
        "Some people raise sugar cane in Hawaii.\\\n",
        "He buys a camera.\\\n",
        "She drinks water.\\\n",
        "I know him.\\\n",
        "Water fills a tub.\\\n",
        "Women are not treated as equals.\\\n",
        "John has to study all afternoon.\\\n",
        "John is a good student.\\\n",
        "The dragon has scorched the metropolis with his fiery breath.\\\n",
        "After suitors invaded her house, Penelope had to think of ways to delay her remarriage.\\\n",
        "The Lao People’s Revolutionary Party set up a new system of drug control laws.\\\n",
        "Research points to heart disease as the leading cause of death in the United States.\\\n",
        "The surgeon positions the balloon in an area of blockage and inflates it.\\\n",
        "James writes the letters.\\\n",
        "James wrote the letters.\\\n",
        "James is writing the letters.\\\n",
        "James has written the letters.\\\n",
        "James is going to write the letters.\\\n",
        "James will write the letters.\\\n",
        "James was writing the letters.\\\n",
        "The scientists had found the cure, but it was too late.\\\n",
        "The scientists will have found a cure by then.\\\n",
        " I keep the butter in the fridge.\\\n",
        "John is keeping my house tidy.\\\n",
        "Mary kept her schedule meticulously.\\\n",
        "The theater was keeping a seat for you.\\\n",
        "I have kept all your old letters.\\\n",
        "He had kept up his training regimen for a month.\\\n",
        "Mark will keep the ficus.\\\n",
        "If you told me, I would keep your secret.\\\n",
        "I would have kept your bicycle here if you had left it with me.\\\n",
        "She wants to keep the book.\\\n",
        "Judy was happy to have kept the puppy.\\\n",
        "I have a feeling that you may be keeping a secret.\\\n",
        "Having kept the bird in a cage for so long, Jade wasn't sure it could survive in the wild.\\\n",
        "Guests might not play chess.\\\n",
        "He might meet Dewi.\\\n",
        "Dewi must not open the gate every morning.\\\n",
        "He must finish his duty in a week.\\\n",
        "I may not buy the computer.\\\n",
        "He may sell the house.\\\n",
        "May I buy the computer?\\\n",
        "Risky can not buy this car every time.\\\n",
        "She can sell the car every time.\\\n",
        "Can she play a violin?\"\n",
        "\n",
        "Passive = \"A camera is bought by him.\\\n",
        "Water is drunk by her.\\\n",
        "He is known to me.\\\n",
        "A tub is filled with water.\\\n",
        "Sugar is sold in kilograms.\\\n",
        "There is a considerable range of expertise demonstrated by the spam senders.\\\n",
        "It was determined by the committee that the report was inconclusive.\\\n",
        "We were invited by our neighbors to attend their party.\\\n",
        "Groups help participants realize that most of their problems and secrets are shared by others in the group.\\\n",
        "The proposed initiative will be bitterly opposed by abortion rights groups.\\\n",
        "Minor keys, modal movement, and arpeggios are shared by both musical traditions.\\\n",
        "In this way, the old religion was able to survive the onslaught of new ideas until the old gods were finally displaced by Christianity.\\\n",
        "First the apples are picked, then they are cleaned, and finally they’re packed and shipped to the market.\\\n",
        "New York is considered the most diverse city in the U.S.\\\n",
        "It is believed that Amelia Earhart’s plane crashed in Pacific Ocean.\\\n",
        "Hungarian is seen as one of the world’s most difficult languages to learn.\\\n",
        "Skin cancers are thought to be caused by excessive exposure to the sun.\\\n",
        "George Washington was elected president in 1788.\\\n",
        "Two people were killed in a drive-by shooting on Friday night.\\\n",
        "Ten children were injured when part of the school roof collapsed.\\\n",
        "I was hit by the dodgeball.\\\n",
        "The metropolis has been scorched by the dragon’s fiery breath.\\\n",
        "When her house was invaded, Penelope had to think of ways to delay her remarriage.\\\n",
        "A new system of drug control laws was set up.\\\n",
        "Heart disease is considered the leading cause of death in the United States.\\\n",
        "The balloon is positioned in an area of blockage and is inflated.\\\n",
        "The Exxon Company accepts that a few gallons might have been spilled.\\\n",
        "100 votes are required to pass the bill.\\\n",
        "Over 120 different contaminants have been dumped into the river.\\\n",
        "Baby Sophia was delivered at 3:30 a.m. yesterday.\\\n",
        "The letters are written by James.\\\n",
        "The letters were written by James.\\\n",
        "The letters are being written by James.\\\n",
        "The letters have been written by James.\\\n",
        "The letters are going to be written by James.\\\n",
        "The letters will be written by James.\\\n",
        "The letters were being written by James.\\\n",
        "The cure had been found, but it was too late.\\\n",
        "A cure will have been found by then.\\\n",
        "Mistakes were made.\\\n",
        "The butter is kept in the fridge.\\\n",
        "My house is being kept tidy.\\\n",
        "Mary's schedule was kept meticulously.\\\n",
        "A seat was being kept for you.\\\n",
        "All your old letters have been kept.\\\n",
        "His training regimen had been kept up for a month.\\\n",
        "The ficus will be kept.\\\n",
        "If you told me, your secret would be kept.\\\n",
        "Your bicycle would have been kept here if you had left it with me.\\\n",
        "The book wants to be kept.\\\n",
        "The puppy was happy to have been kept.\\\n",
        "I have a feeling that a secret may be being kept.\\\n",
        "The bird, having been kept in a cage for so long, might not survive in the wild.\\\n",
        "The car can be sold by her every time.\\\n",
        "Can a violin be played by her?\\\n",
        "The house may be sold by him.\\\n",
        "May the computer be bought by me?\\\n",
        "The computer may not be bought by me.\\\n",
        "His duty must be finished by him in a week.\\\n",
        "The gate must not be opened by Dewi every morning.\\\n",
        "Dewi might be met by him.\\\n",
        "Chess might not be played guests.\\\n",
        "At dinner, six shrimp were eaten by Harry.\\\n",
        "The savannah is roamed by beautiful giraffes.\\\n",
        "The flat tire was changed by Sue.\\\n",
        "A movie is going to be watched by us tonight.\\\n",
        "The obstacle course was run by me in record time.\\\n",
        "The entire stretch of highway was paved by the crew.\\\n",
        "The novel was read by Mom in one day.\\\n",
        "A scathing review was written by the critic.\\\n",
        "The house will be cleaned by me every Saturday.\\\n",
        "A safety video will be watched by the staff every year.\\\n",
        "The application for a new job was faxed by her.\\\n",
        "The entire house was painted by Tom.\\\n",
        "The students’ questions are always answered by the teacher.\\\n",
        "That piece is really enjoyed by the choir.\\\n",
        "By whom were you taught to ski?\\\n",
        "The whole suburb was destroyed by the forest fire.\\\n",
        "The treaty is being signed by the two kings.\\\n",
        "Every night the office is vacuumed and dusted by the cleaning crew.\\\n",
        "Money was generously donated to the homeless shelter by Larry.\\\n",
        "My sales ad was not responded to by anyone.\\\n",
        "All the reservations will be made by the wedding planner.\\\n",
        "For the bake sale, two dozen cookies will be baked by Susan.\\\n",
        "The comet was viewed by the science class.\\\n",
        "The video was posted on Facebook by Alex.\\\n",
        "Instructions will be given to you by the director.\\\n",
        "The Grand Canyon is viewed by thousands of tourists every year.\\\n",
        "The house was remodeled by the homeowners to help it sell.\\\n",
        "The victory will be celebrated by the team tomorrow.\\\n",
        "The metal beams were eventually corroded by the saltwater.\\\n",
        "The baby was carried by the kangaroo in her pouch.\\\n",
        "The last cookie was eaten by whom?\""
      ]
    },
    {
      "cell_type": "code",
      "source": [
        "!python -m spacy download en_core_web_lg"
      ],
      "metadata": {
        "colab": {
          "base_uri": "https://localhost:8080/"
        },
        "id": "eLGdCVnan_V4",
        "outputId": "6dda1b4c-1176-4211-8662-abe5a9967a7b"
      },
      "execution_count": 3,
      "outputs": [
        {
          "output_type": "stream",
          "name": "stdout",
          "text": [
            "2022-09-06 07:07:34.616411: E tensorflow/stream_executor/cuda/cuda_driver.cc:271] failed call to cuInit: CUDA_ERROR_NO_DEVICE: no CUDA-capable device is detected\n",
            "Looking in indexes: https://pypi.org/simple, https://us-python.pkg.dev/colab-wheels/public/simple/\n",
            "Collecting en-core-web-lg==3.4.0\n",
            "  Downloading https://github.com/explosion/spacy-models/releases/download/en_core_web_lg-3.4.0/en_core_web_lg-3.4.0-py3-none-any.whl (587.7 MB)\n",
            "\u001b[K     |████████████████████████████████| 587.7 MB 8.8 kB/s \n",
            "\u001b[?25hRequirement already satisfied: spacy<3.5.0,>=3.4.0 in /usr/local/lib/python3.7/dist-packages (from en-core-web-lg==3.4.0) (3.4.1)\n",
            "Requirement already satisfied: typer<0.5.0,>=0.3.0 in /usr/local/lib/python3.7/dist-packages (from spacy<3.5.0,>=3.4.0->en-core-web-lg==3.4.0) (0.4.2)\n",
            "Requirement already satisfied: typing-extensions<4.2.0,>=3.7.4 in /usr/local/lib/python3.7/dist-packages (from spacy<3.5.0,>=3.4.0->en-core-web-lg==3.4.0) (4.1.1)\n",
            "Requirement already satisfied: packaging>=20.0 in /usr/local/lib/python3.7/dist-packages (from spacy<3.5.0,>=3.4.0->en-core-web-lg==3.4.0) (21.3)\n",
            "Requirement already satisfied: murmurhash<1.1.0,>=0.28.0 in /usr/local/lib/python3.7/dist-packages (from spacy<3.5.0,>=3.4.0->en-core-web-lg==3.4.0) (1.0.8)\n",
            "Requirement already satisfied: thinc<8.2.0,>=8.1.0 in /usr/local/lib/python3.7/dist-packages (from spacy<3.5.0,>=3.4.0->en-core-web-lg==3.4.0) (8.1.0)\n",
            "Requirement already satisfied: requests<3.0.0,>=2.13.0 in /usr/local/lib/python3.7/dist-packages (from spacy<3.5.0,>=3.4.0->en-core-web-lg==3.4.0) (2.23.0)\n",
            "Requirement already satisfied: setuptools in /usr/local/lib/python3.7/dist-packages (from spacy<3.5.0,>=3.4.0->en-core-web-lg==3.4.0) (57.4.0)\n",
            "Requirement already satisfied: pathy>=0.3.5 in /usr/local/lib/python3.7/dist-packages (from spacy<3.5.0,>=3.4.0->en-core-web-lg==3.4.0) (0.6.2)\n",
            "Requirement already satisfied: catalogue<2.1.0,>=2.0.6 in /usr/local/lib/python3.7/dist-packages (from spacy<3.5.0,>=3.4.0->en-core-web-lg==3.4.0) (2.0.8)\n",
            "Requirement already satisfied: spacy-legacy<3.1.0,>=3.0.9 in /usr/local/lib/python3.7/dist-packages (from spacy<3.5.0,>=3.4.0->en-core-web-lg==3.4.0) (3.0.10)\n",
            "Requirement already satisfied: pydantic!=1.8,!=1.8.1,<1.10.0,>=1.7.4 in /usr/local/lib/python3.7/dist-packages (from spacy<3.5.0,>=3.4.0->en-core-web-lg==3.4.0) (1.9.2)\n",
            "Requirement already satisfied: jinja2 in /usr/local/lib/python3.7/dist-packages (from spacy<3.5.0,>=3.4.0->en-core-web-lg==3.4.0) (2.11.3)\n",
            "Requirement already satisfied: spacy-loggers<2.0.0,>=1.0.0 in /usr/local/lib/python3.7/dist-packages (from spacy<3.5.0,>=3.4.0->en-core-web-lg==3.4.0) (1.0.3)\n",
            "Requirement already satisfied: langcodes<4.0.0,>=3.2.0 in /usr/local/lib/python3.7/dist-packages (from spacy<3.5.0,>=3.4.0->en-core-web-lg==3.4.0) (3.3.0)\n",
            "Requirement already satisfied: numpy>=1.15.0 in /usr/local/lib/python3.7/dist-packages (from spacy<3.5.0,>=3.4.0->en-core-web-lg==3.4.0) (1.21.6)\n",
            "Requirement already satisfied: wasabi<1.1.0,>=0.9.1 in /usr/local/lib/python3.7/dist-packages (from spacy<3.5.0,>=3.4.0->en-core-web-lg==3.4.0) (0.10.1)\n",
            "Requirement already satisfied: srsly<3.0.0,>=2.4.3 in /usr/local/lib/python3.7/dist-packages (from spacy<3.5.0,>=3.4.0->en-core-web-lg==3.4.0) (2.4.4)\n",
            "Requirement already satisfied: cymem<2.1.0,>=2.0.2 in /usr/local/lib/python3.7/dist-packages (from spacy<3.5.0,>=3.4.0->en-core-web-lg==3.4.0) (2.0.6)\n",
            "Requirement already satisfied: tqdm<5.0.0,>=4.38.0 in /usr/local/lib/python3.7/dist-packages (from spacy<3.5.0,>=3.4.0->en-core-web-lg==3.4.0) (4.64.0)\n",
            "Requirement already satisfied: preshed<3.1.0,>=3.0.2 in /usr/local/lib/python3.7/dist-packages (from spacy<3.5.0,>=3.4.0->en-core-web-lg==3.4.0) (3.0.7)\n",
            "Requirement already satisfied: zipp>=0.5 in /usr/local/lib/python3.7/dist-packages (from catalogue<2.1.0,>=2.0.6->spacy<3.5.0,>=3.4.0->en-core-web-lg==3.4.0) (3.8.1)\n",
            "Requirement already satisfied: pyparsing!=3.0.5,>=2.0.2 in /usr/local/lib/python3.7/dist-packages (from packaging>=20.0->spacy<3.5.0,>=3.4.0->en-core-web-lg==3.4.0) (3.0.9)\n",
            "Requirement already satisfied: smart-open<6.0.0,>=5.2.1 in /usr/local/lib/python3.7/dist-packages (from pathy>=0.3.5->spacy<3.5.0,>=3.4.0->en-core-web-lg==3.4.0) (5.2.1)\n",
            "Requirement already satisfied: urllib3!=1.25.0,!=1.25.1,<1.26,>=1.21.1 in /usr/local/lib/python3.7/dist-packages (from requests<3.0.0,>=2.13.0->spacy<3.5.0,>=3.4.0->en-core-web-lg==3.4.0) (1.24.3)\n",
            "Requirement already satisfied: chardet<4,>=3.0.2 in /usr/local/lib/python3.7/dist-packages (from requests<3.0.0,>=2.13.0->spacy<3.5.0,>=3.4.0->en-core-web-lg==3.4.0) (3.0.4)\n",
            "Requirement already satisfied: certifi>=2017.4.17 in /usr/local/lib/python3.7/dist-packages (from requests<3.0.0,>=2.13.0->spacy<3.5.0,>=3.4.0->en-core-web-lg==3.4.0) (2022.6.15)\n",
            "Requirement already satisfied: idna<3,>=2.5 in /usr/local/lib/python3.7/dist-packages (from requests<3.0.0,>=2.13.0->spacy<3.5.0,>=3.4.0->en-core-web-lg==3.4.0) (2.10)\n",
            "Requirement already satisfied: blis<0.8.0,>=0.7.8 in /usr/local/lib/python3.7/dist-packages (from thinc<8.2.0,>=8.1.0->spacy<3.5.0,>=3.4.0->en-core-web-lg==3.4.0) (0.7.8)\n",
            "Requirement already satisfied: click<9.0.0,>=7.1.1 in /usr/local/lib/python3.7/dist-packages (from typer<0.5.0,>=0.3.0->spacy<3.5.0,>=3.4.0->en-core-web-lg==3.4.0) (7.1.2)\n",
            "Requirement already satisfied: MarkupSafe>=0.23 in /usr/local/lib/python3.7/dist-packages (from jinja2->spacy<3.5.0,>=3.4.0->en-core-web-lg==3.4.0) (2.0.1)\n",
            "Installing collected packages: en-core-web-lg\n",
            "Successfully installed en-core-web-lg-3.4.0\n",
            "\u001b[38;5;2m✔ Download and installation successful\u001b[0m\n",
            "You can now load the package via spacy.load('en_core_web_lg')\n"
          ]
        }
      ]
    },
    {
      "cell_type": "code",
      "source": [
        "nlp = spacy.load('en_core_web_lg')"
      ],
      "metadata": {
        "id": "puxnN5iloDgA"
      },
      "execution_count": 4,
      "outputs": []
    },
    {
      "cell_type": "code",
      "source": [
        "matcher = Matcher(nlp.vocab)\n",
        "sents = Passive\n",
        "doc = nlp(sents)\n",
        "\n",
        "# for sent in doc.sents:\n",
        "#     for token in sent:\n",
        "#         print(token.dep_,token.tag_, end = \" \")\n",
        "#     print()\n",
        "\n",
        "print(len(list(doc.sents)))"
      ],
      "metadata": {
        "colab": {
          "base_uri": "https://localhost:8080/"
        },
        "id": "VkbWpN3tn0yj",
        "outputId": "cb1a4b8d-5ab4-4349-8cb1-48a40e1b1d3c"
      },
      "execution_count": 10,
      "outputs": [
        {
          "output_type": "stream",
          "name": "stdout",
          "text": [
            "87\n"
          ]
        }
      ]
    },
    {
      "cell_type": "code",
      "source": [
        "passive_rule = [{'DEP':'nsubjpass'},{'DEP':'aux','OP':'*'},{'DEP':'auxpass'},{'TAG':'VBN'}]\n",
        "matcher.add('Passive',[passive_rule])\n",
        "matches = matcher(doc)\n",
        "print(len(matches))"
      ],
      "metadata": {
        "colab": {
          "base_uri": "https://localhost:8080/"
        },
        "id": "U7FtGZzXoUqS",
        "outputId": "76ed1d1e-3f7b-4b76-8e29-f0c1357ef0d6"
      },
      "execution_count": 8,
      "outputs": [
        {
          "output_type": "stream",
          "name": "stdout",
          "text": [
            "67\n"
          ]
        }
      ]
    },
    {
      "cell_type": "code",
      "source": [],
      "metadata": {
        "id": "-Zt60ja8oXE4"
      },
      "execution_count": null,
      "outputs": []
    }
  ]
}